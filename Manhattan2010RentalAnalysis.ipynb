{
 "cells": [
  {
   "cell_type": "code",
   "execution_count": 1,
   "metadata": {},
   "outputs": [],
   "source": [
    "import pandas as pd \n",
    "import numpy as np "
   ]
  },
  {
   "cell_type": "markdown",
   "metadata": {},
   "source": [
    "#Business Questions:\n",
    "1) What is the Number one most popular house type/apartment type (by neighborhood)? \n",
    "2) Over-year selling price, line chart "
   ]
  },
  {
   "cell_type": "code",
   "execution_count": 158,
   "metadata": {},
   "outputs": [],
   "source": [
    "df_03 = pd.read_excel('C:/Users/qw508/OneDrive/Documents/Manhattan/2003_manhattan.xls',skiprows=3)#.reset_index()\n",
    "df_04 = pd.read_excel('C:/Users/qw508/OneDrive/Documents/Manhattan/2004_manhattan.xls',skiprows=3)#.reset_index()\n",
    "df_05 = pd.read_excel('C:/Users/qw508/OneDrive/Documents/Manhattan/2005_manhattan.xls',skiprows=3)#.reset_index()\n",
    "df_06 = pd.read_excel('C:/Users/qw508/OneDrive/Documents/Manhattan/2006_manhattan.xls',skiprows=3)#.reset_index()\n",
    "df_07 = pd.read_excel('C:/Users/qw508/OneDrive/Documents/Manhattan/2007_manhattan.xls',skiprows=3)#.reset_index()\n",
    "df_08 = pd.read_excel('C:/Users/qw508/OneDrive/Documents/Manhattan/2008_manhattan.xls',skiprows=3)#.reset_index()\n",
    "df_09 = pd.read_excel('C:/Users/qw508/OneDrive/Documents/Manhattan/2009_manhattan.xls',skiprows=3)#.reset_index()\n",
    "df_10 = pd.read_excel('C:/Users/qw508/OneDrive/Documents/Manhattan/2010_manhattan.xls',skiprows=3)#.reset_index()\n",
    "df_11 = pd.read_excel('C:/Users/qw508/OneDrive/Documents/Manhattan/2011_manhattan.xls',skiprows=4)#.reset_index()\n",
    "df_12 = pd.read_excel('C:/Users/qw508/OneDrive/Documents/Manhattan/2012_manhattan.xls',skiprows=4)#.reset_index()\n",
    "df_13 = pd.read_excel('C:/Users/qw508/OneDrive/Documents/Manhattan/2013_manhattan.xls',skiprows=4)#.reset_index()\n",
    "df_14 = pd.read_excel('C:/Users/qw508/OneDrive/Documents/Manhattan/2014_manhattan.xls',skiprows=4)#.reset_index()\n",
    "df_15 = pd.read_excel('C:/Users/qw508/OneDrive/Documents/Manhattan/2015_manhattan.xls',skiprows=4)#.reset_index()\n",
    "df_16 = pd.read_excel('C:/Users/qw508/OneDrive/Documents/Manhattan/2016_manhattan.xls',skiprows=4)#.reset_index()\n",
    "df_17 = pd.read_excel('C:/Users/qw508/OneDrive/Documents/Manhattan/2017_manhattan.xls',skiprows=4)#.reset_index()\n",
    "df_18 = pd.read_excel('C:/Users/qw508/OneDrive/Documents/Manhattan/2018_manhattan.xlsx',skiprows=4)#.reset_index()\n",
    "df_19 = pd.read_excel('C:/Users/qw508/OneDrive/Documents/Manhattan/2019_manhattan.xlsx',skiprows=4)#.reset_index()\n",
    "df_rest = pd.read_excel('C:/Users/qw508/OneDrive/Documents/Manhattan/202021_manhattan.xls',skiprows=4)#.reset_index()"
   ]
  },
  {
   "cell_type": "code",
   "execution_count": 160,
   "metadata": {},
   "outputs": [
    {
     "data": {
      "text/plain": [
       "Index(['BOROUGH', 'NEIGHBORHOOD', 'BUILDING CLASS CATEGORY',\n",
       "       'TAX CLASS AT PRESENT', 'BLOCK', 'LOT', 'EASE-MENT',\n",
       "       'BUILDING CLASS AT PRESENT', 'ADDRESS', 'APARTMENT NUMBER', 'ZIP CODE',\n",
       "       'RESIDENTIAL UNITS', 'COMMERCIAL UNITS', 'TOTAL UNITS',\n",
       "       'LAND SQUARE FEET', 'GROSS SQUARE FEET', 'YEAR BUILT',\n",
       "       'TAX CLASS AT TIME OF SALE', 'BUILDING CLASS AT TIME OF SALE',\n",
       "       'SALE PRICE', 'SALE DATE'],\n",
       "      dtype='object')"
      ]
     },
     "execution_count": 160,
     "metadata": {},
     "output_type": "execute_result"
    }
   ],
   "source": [
    "df_11.columns"
   ]
  },
  {
   "cell_type": "code",
   "execution_count": 163,
   "metadata": {},
   "outputs": [
    {
     "data": {
      "text/plain": [
       "Index(['BOROUGH', 'NEIGHBORHOOD', 'BUILDING CLASS CATEGORY',\n",
       "       'TAX CLASS AT PRESENT', 'BLOCK', 'LOT', 'EASE-MENT',\n",
       "       'BUILDING CLASS AT PRESENT', 'ADDRESS', 'APARTMENT NUMBER', 'ZIP CODE',\n",
       "       'RESIDENTIAL UNITS', 'COMMERCIAL UNITS', 'TOTAL UNITS',\n",
       "       'LAND SQUARE FEET', 'GROSS SQUARE FEET', 'YEAR BUILT',\n",
       "       'TAX CLASS AT TIME OF SALE', 'BUILDING CLASS AT TIME OF SALE',\n",
       "       'SALE PRICE', 'SALE DATE'],\n",
       "      dtype='object')"
      ]
     },
     "execution_count": 163,
     "metadata": {},
     "output_type": "execute_result"
    }
   ],
   "source": [
    "df_12.columns"
   ]
  },
  {
   "cell_type": "code",
   "execution_count": 162,
   "metadata": {},
   "outputs": [],
   "source": [
    "#Remove /n in column names \n",
    "df_12.columns = df_12.columns.str.replace('\\n', '')\n",
    "df_13.columns = df_13.columns.str.replace('\\n', '')\n",
    "df_14.columns = df_14.columns.str.replace('\\n', '')\n",
    "df_15.columns = df_15.columns.str.replace('\\n', '')\n",
    "df_16.columns = df_16.columns.str.replace('\\n', '')\n",
    "df_17.columns = df_17.columns.str.replace('\\n', '')\n",
    "df_18.columns = df_18.columns.str.replace('\\n', '')\n",
    "df_19.columns = df_19.columns.str.replace('\\n', '')"
   ]
  },
  {
   "cell_type": "code",
   "execution_count": 164,
   "metadata": {},
   "outputs": [
    {
     "name": "stderr",
     "output_type": "stream",
     "text": [
      "C:\\Users\\qw508\\Anaconda3\\lib\\site-packages\\ipykernel_launcher.py:3: FutureWarning: Sorting because non-concatenation axis is not aligned. A future version\n",
      "of pandas will change to not sort by default.\n",
      "\n",
      "To accept the future behavior, pass 'sort=False'.\n",
      "\n",
      "To retain the current behavior and silence the warning, pass 'sort=True'.\n",
      "\n",
      "  This is separate from the ipykernel package so we can avoid doing imports until\n"
     ]
    }
   ],
   "source": [
    "frames = [df_03, df_04, df_05, df_06, df_07, df_08, df_09, df_10, df_11, df_12, df_13, df_14, df_15, df_16, df_17,\n",
    "         df_18, df_19, df_rest]\n",
    "df = pd.concat(frames)"
   ]
  },
  {
   "cell_type": "code",
   "execution_count": 165,
   "metadata": {},
   "outputs": [
    {
     "data": {
      "text/plain": [
       "(401746, 25)"
      ]
     },
     "execution_count": 165,
     "metadata": {},
     "output_type": "execute_result"
    }
   ],
   "source": [
    "#get column index \n",
    "df.shape"
   ]
  },
  {
   "cell_type": "code",
   "execution_count": 167,
   "metadata": {},
   "outputs": [],
   "source": [
    "df.to_excel('C:/Users/qw508/OneDrive/Documents/Manhattan/df.xlsx')"
   ]
  },
  {
   "cell_type": "code",
   "execution_count": 166,
   "metadata": {
    "scrolled": true
   },
   "outputs": [
    {
     "data": {
      "text/html": [
       "<div>\n",
       "<style scoped>\n",
       "    .dataframe tbody tr th:only-of-type {\n",
       "        vertical-align: middle;\n",
       "    }\n",
       "\n",
       "    .dataframe tbody tr th {\n",
       "        vertical-align: top;\n",
       "    }\n",
       "\n",
       "    .dataframe thead th {\n",
       "        text-align: right;\n",
       "    }\n",
       "</style>\n",
       "<table border=\"1\" class=\"dataframe\">\n",
       "  <thead>\n",
       "    <tr style=\"text-align: right;\">\n",
       "      <th></th>\n",
       "      <th>ADDRESS</th>\n",
       "      <th>APARTMENT NUMBER</th>\n",
       "      <th>BLOCK</th>\n",
       "      <th>BOROUGH</th>\n",
       "      <th>BUILDING CLASS AS OF FINAL ROLL 17/18</th>\n",
       "      <th>BUILDING CLASS AS OF FINAL ROLL 18/19</th>\n",
       "      <th>BUILDING CLASS AT PRESENT</th>\n",
       "      <th>BUILDING CLASS AT TIME OF SALE</th>\n",
       "      <th>BUILDING CLASS CATEGORY</th>\n",
       "      <th>COMMERCIAL UNITS</th>\n",
       "      <th>...</th>\n",
       "      <th>RESIDENTIAL UNITS</th>\n",
       "      <th>SALE DATE</th>\n",
       "      <th>SALE PRICE</th>\n",
       "      <th>TAX CLASS AS OF FINAL ROLL 17/18</th>\n",
       "      <th>TAX CLASS AS OF FINAL ROLL 18/19</th>\n",
       "      <th>TAX CLASS AT PRESENT</th>\n",
       "      <th>TAX CLASS AT TIME OF SALE</th>\n",
       "      <th>TOTAL UNITS</th>\n",
       "      <th>YEAR BUILT</th>\n",
       "      <th>ZIP CODE</th>\n",
       "    </tr>\n",
       "  </thead>\n",
       "  <tbody>\n",
       "    <tr>\n",
       "      <th>0</th>\n",
       "      <td>746 EAST 6 STREET</td>\n",
       "      <td></td>\n",
       "      <td>375</td>\n",
       "      <td>1</td>\n",
       "      <td>NaN</td>\n",
       "      <td>NaN</td>\n",
       "      <td>B9</td>\n",
       "      <td>B9</td>\n",
       "      <td>02  TWO FAMILY HOMES</td>\n",
       "      <td>0.0</td>\n",
       "      <td>...</td>\n",
       "      <td>2.0</td>\n",
       "      <td>2003-01-22</td>\n",
       "      <td>1800000</td>\n",
       "      <td>NaN</td>\n",
       "      <td>NaN</td>\n",
       "      <td>1</td>\n",
       "      <td>1</td>\n",
       "      <td>2.0</td>\n",
       "      <td>1899.0</td>\n",
       "      <td>10009</td>\n",
       "    </tr>\n",
       "    <tr>\n",
       "      <th>1</th>\n",
       "      <td>316 EAST 3 STREET</td>\n",
       "      <td></td>\n",
       "      <td>372</td>\n",
       "      <td>1</td>\n",
       "      <td>NaN</td>\n",
       "      <td>NaN</td>\n",
       "      <td>C3</td>\n",
       "      <td>C3</td>\n",
       "      <td>07  RENTALS - WALKUP APARTMENTS</td>\n",
       "      <td>0.0</td>\n",
       "      <td>...</td>\n",
       "      <td>4.0</td>\n",
       "      <td>2003-12-18</td>\n",
       "      <td>0</td>\n",
       "      <td>NaN</td>\n",
       "      <td>NaN</td>\n",
       "      <td>2A</td>\n",
       "      <td>2</td>\n",
       "      <td>4.0</td>\n",
       "      <td>1900.0</td>\n",
       "      <td>10009</td>\n",
       "    </tr>\n",
       "    <tr>\n",
       "      <th>2</th>\n",
       "      <td>316 EAST 3 STREET</td>\n",
       "      <td></td>\n",
       "      <td>372</td>\n",
       "      <td>1</td>\n",
       "      <td>NaN</td>\n",
       "      <td>NaN</td>\n",
       "      <td>C3</td>\n",
       "      <td>C3</td>\n",
       "      <td>07  RENTALS - WALKUP APARTMENTS</td>\n",
       "      <td>0.0</td>\n",
       "      <td>...</td>\n",
       "      <td>4.0</td>\n",
       "      <td>2003-12-18</td>\n",
       "      <td>0</td>\n",
       "      <td>NaN</td>\n",
       "      <td>NaN</td>\n",
       "      <td>2A</td>\n",
       "      <td>2</td>\n",
       "      <td>4.0</td>\n",
       "      <td>1900.0</td>\n",
       "      <td>10009</td>\n",
       "    </tr>\n",
       "    <tr>\n",
       "      <th>3</th>\n",
       "      <td>125 AVENUE D</td>\n",
       "      <td></td>\n",
       "      <td>378</td>\n",
       "      <td>1</td>\n",
       "      <td>NaN</td>\n",
       "      <td>NaN</td>\n",
       "      <td>C4</td>\n",
       "      <td>C4</td>\n",
       "      <td>07  RENTALS - WALKUP APARTMENTS</td>\n",
       "      <td>1.0</td>\n",
       "      <td>...</td>\n",
       "      <td>6.0</td>\n",
       "      <td>2003-10-23</td>\n",
       "      <td>426000</td>\n",
       "      <td>NaN</td>\n",
       "      <td>NaN</td>\n",
       "      <td>2B</td>\n",
       "      <td>2</td>\n",
       "      <td>7.0</td>\n",
       "      <td>1910.0</td>\n",
       "      <td>10009</td>\n",
       "    </tr>\n",
       "    <tr>\n",
       "      <th>4</th>\n",
       "      <td>610 EAST 9 STREET</td>\n",
       "      <td></td>\n",
       "      <td>391</td>\n",
       "      <td>1</td>\n",
       "      <td>NaN</td>\n",
       "      <td>NaN</td>\n",
       "      <td>C1</td>\n",
       "      <td>C1</td>\n",
       "      <td>07  RENTALS - WALKUP APARTMENTS</td>\n",
       "      <td>0.0</td>\n",
       "      <td>...</td>\n",
       "      <td>24.0</td>\n",
       "      <td>2003-02-28</td>\n",
       "      <td>0</td>\n",
       "      <td>NaN</td>\n",
       "      <td>NaN</td>\n",
       "      <td>2</td>\n",
       "      <td>2</td>\n",
       "      <td>24.0</td>\n",
       "      <td>1910.0</td>\n",
       "      <td>10009</td>\n",
       "    </tr>\n",
       "  </tbody>\n",
       "</table>\n",
       "<p>5 rows × 25 columns</p>\n",
       "</div>"
      ],
      "text/plain": [
       "                                     ADDRESS APARTMENT NUMBER  BLOCK  BOROUGH  \\\n",
       "0  746 EAST 6 STREET                                             375        1   \n",
       "1  316 EAST 3 STREET                                             372        1   \n",
       "2  316 EAST 3 STREET                                             372        1   \n",
       "3  125 AVENUE D                                                  378        1   \n",
       "4  610 EAST 9 STREET                                             391        1   \n",
       "\n",
       "  BUILDING CLASS AS OF FINAL ROLL 17/18 BUILDING CLASS AS OF FINAL ROLL 18/19  \\\n",
       "0                                   NaN                                   NaN   \n",
       "1                                   NaN                                   NaN   \n",
       "2                                   NaN                                   NaN   \n",
       "3                                   NaN                                   NaN   \n",
       "4                                   NaN                                   NaN   \n",
       "\n",
       "  BUILDING CLASS AT PRESENT BUILDING CLASS AT TIME OF SALE  \\\n",
       "0                        B9                             B9   \n",
       "1                        C3                             C3   \n",
       "2                        C3                             C3   \n",
       "3                        C4                             C4   \n",
       "4                        C1                             C1   \n",
       "\n",
       "                        BUILDING CLASS CATEGORY  COMMERCIAL UNITS  ...  \\\n",
       "0  02  TWO FAMILY HOMES                                       0.0  ...   \n",
       "1  07  RENTALS - WALKUP APARTMENTS                            0.0  ...   \n",
       "2  07  RENTALS - WALKUP APARTMENTS                            0.0  ...   \n",
       "3  07  RENTALS - WALKUP APARTMENTS                            1.0  ...   \n",
       "4  07  RENTALS - WALKUP APARTMENTS                            0.0  ...   \n",
       "\n",
       "  RESIDENTIAL UNITS  SALE DATE  SALE PRICE  TAX CLASS AS OF FINAL ROLL 17/18  \\\n",
       "0               2.0 2003-01-22     1800000                               NaN   \n",
       "1               4.0 2003-12-18           0                               NaN   \n",
       "2               4.0 2003-12-18           0                               NaN   \n",
       "3               6.0 2003-10-23      426000                               NaN   \n",
       "4              24.0 2003-02-28           0                               NaN   \n",
       "\n",
       "  TAX CLASS AS OF FINAL ROLL 18/19  TAX CLASS AT PRESENT  \\\n",
       "0                              NaN                     1   \n",
       "1                              NaN                    2A   \n",
       "2                              NaN                    2A   \n",
       "3                              NaN                    2B   \n",
       "4                              NaN                     2   \n",
       "\n",
       "  TAX CLASS AT TIME OF SALE  TOTAL UNITS YEAR BUILT ZIP CODE  \n",
       "0                         1          2.0     1899.0    10009  \n",
       "1                         2          4.0     1900.0    10009  \n",
       "2                         2          4.0     1900.0    10009  \n",
       "3                         2          7.0     1910.0    10009  \n",
       "4                         2         24.0     1910.0    10009  \n",
       "\n",
       "[5 rows x 25 columns]"
      ]
     },
     "execution_count": 166,
     "metadata": {},
     "output_type": "execute_result"
    }
   ],
   "source": [
    "df.head()"
   ]
  }
 ],
 "metadata": {
  "kernelspec": {
   "display_name": "Python 3",
   "language": "python",
   "name": "python3"
  },
  "language_info": {
   "codemirror_mode": {
    "name": "ipython",
    "version": 3
   },
   "file_extension": ".py",
   "mimetype": "text/x-python",
   "name": "python",
   "nbconvert_exporter": "python",
   "pygments_lexer": "ipython3",
   "version": "3.7.3"
  }
 },
 "nbformat": 4,
 "nbformat_minor": 2
}
